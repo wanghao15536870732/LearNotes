{
 "cells": [
  {
   "cell_type": "code",
   "execution_count": 1,
   "metadata": {},
   "outputs": [],
   "source": [
    "import numpy as np\n",
    "import matplotlib.pyplot as plt"
   ]
  },
  {
   "cell_type": "code",
   "execution_count": 2,
   "metadata": {},
   "outputs": [],
   "source": [
    "def sigmoid(t):\n",
    "    return 1.0 / (1.0 + np.exp(-t))"
   ]
  },
  {
   "cell_type": "code",
   "execution_count": 3,
   "metadata": {
    "scrolled": true
   },
   "outputs": [
    {
     "data": {
      "image/png": "[encoded data removed]",
      "text/plain": [
       "<matplotlib.figure.Figure at 0x24d5f767be0>"
      ]
     },
     "metadata": {
      "needs_background": "light"
     },
     "output_type": "display_data"
    }
   ],
   "source": [
    "X = np.linspace(-10,10,500)\n",
    "y = sigmoid(X)\n",
    "\n",
    "plt.plot(X,y)\n",
    "plt.show()"
   ]
  },
  {
   "cell_type": "markdown",
   "metadata": {},
   "source": [
    "损失函数$$J(\\theta)=-\\frac{1}{m} \\sum_{i=1}^{m} y^{(i)} \\log \\left(\\sigma\\left(X_{b}^{(i)} \\theta\\right)\\right)+\\left(1-y^{(i)}\\right) \\log \\left(1-\\sigma\\left(X_{b}^{(i)} \\theta\\right)\\right)$$"
   ]
  },
  {
   "cell_type": "markdown",
   "metadata": {},
   "source": [
    "$$\\nabla J(\\theta)=\\left(\\begin{array}{c}{\\frac{\\partial J(\\theta)}{\\partial \\theta_{\\theta}}} \\\\ {\\frac{\\partial J(\\theta)}{\\partial \\theta_{1}}} \\\\ {\\ldots} \\\\ {\\frac{\\partial J(\\theta)}{\\partial \\theta_{n}}}\\end{array}\\right)$$"
   ]
  },
  {
   "cell_type": "markdown",
   "metadata": {},
   "source": [
    "$$\\sigma(t)=\\frac{1}{1+e^{-t}}=\\left(1+e^{-t}\\right)^{-1}$$\n",
    "$$\\sigma(t)^{\\prime}=-\\left(1+e^{-t}\\right)^{-2} \\cdot e^{-t} \\cdot(-1)=\\left(1+ e^{-t}\\right)^{-2} \\cdot e^{-t}$$"
   ]
  },
  {
   "cell_type": "markdown",
   "metadata": {},
   "source": [
    "$$(\\log \\sigma(t))^{\\prime}=\\frac{1}{\\sigma(t)} \\cdot \\sigma(t)^{\\prime}=\\frac{1}{\\sigma(t)} \\cdot\\left(1+e^{-t}\\right)^{-2} \\cdot e^{-t} = \\frac{1}{\\left(1+e^{-t}\\right)^{-1}} \\cdot\\left(1+e^{-t}\\right)^{-2} \\cdot e^{-t} =\\left(1+e^{-t}\\right)^{-1} \\cdot e^{-t}$$"
   ]
  },
  {
   "cell_type": "markdown",
   "metadata": {},
   "source": [
    "$$\\begin{aligned}(\\log \\sigma(t))^{\\prime} &=\\left(1+e^{-t}\\right)^{-1} \\cdot e^{-t} \\\\ &=\\frac{e^{-t}}{1+e^{-t}}=\\frac{1+e^{-t}-1}{1+e^{-t}}=1-\\frac{1}{1+e^{-t}} \\\\ & = 1 -\\sigma(t)  \\end{aligned}$$"
   ]
  },
  {
   "cell_type": "markdown",
   "metadata": {},
   "source": [
    "$$\\frac{d\\left(y^{(i)} \\log \\sigma\\left(X_{b}^{(i)} \\theta\\right)\\right)}{d \\theta_{j}}=y^{(i)}\\left(1-\\sigma\\left(X_{b}^{(i)} \\theta\\right)\\right) \\cdot X_{j}^{(i)}$$"
   ]
  },
  {
   "cell_type": "markdown",
   "metadata": {},
   "source": [
    "$$(\\log (1-\\sigma(t)))^{\\prime}=\\frac{1}{1-\\sigma(t)} \\cdot(-1) \\cdot \\sigma(t)^{\\prime}=-\\frac{1}{1-\\sigma(t)} \\cdot\\left(1+e^{-t}\\right)^{-2} \\cdot e^{-t}$$"
   ]
  },
  {
   "cell_type": "markdown",
   "metadata": {},
   "source": [
    "最终的导数结果为:$\\frac{J(\\theta)}{\\theta_{j}}=\\frac{1}{m} \\sum_{i=1}^{m}\\left(\\sigma\\left(X_{b}^{(i)} \\theta\\right)-y^{(i)}\\right) X_{j}^{(i)}$"
   ]
  },
  {
   "cell_type": "markdown",
   "metadata": {},
   "source": [
    "$$\\nabla J(\\theta)=\\left(\\begin{array}{c}{\\partial J / \\partial \\theta_{0}} \\\\ {\\partial J / \\partial \\theta_{0}} \\\\ {\\partial J / \\partial \\theta_{1}} \\\\ {\\partial J / \\partial \\theta_{2}} \\\\ {\\cdots} \\\\ {\\partial J / \\partial \\theta_{n}}\\end{array}\\right) = \\left(\\begin{array}{c}{\\sum_{i=1}^{m}\\left(\\sigma\\left(X_{b}^{(i)} \\theta\\right)-y^{(i)}\\right)} \\\\ {\\sum_{i=1}^{m}\\left(\\sigma\\left(X_{b}^{(i)} \\theta\\right)-y^{(i)}\\right) \\cdot X_{1}^{(i)}} \\\\ {\\sum_{i=1}^{m}\\left(\\sigma\\left(X_{b}^{(i)} \\theta\\right)-y^{(i)}\\right) \\cdot X_{2}^{(i)}} \\\\ {\\sum_{i=1}^{m}\\left(\\sigma\\left(X_{n}^{(i)} \\theta\\right)-y^{(i)}\\right) \\cdot X^{(i)}}\\end{array}\\right) = \\frac{1}{m} \\cdot \\left(\\begin{array}{c}{\\sum_{i=1}^{m}\\left(\\hat{y}^{(i)}-y^{(i)}\\right)} \\\\ {\\sum_{i=1}^{m}\\left(\\hat{y}^{(i)}-y^{(i)}\\right) \\cdot X_{1}^{(i)}} \\\\ {\\sum_{i=1}^{m}\\left(\\hat{y}^{(i)}-y^{(i)}\\right) \\cdot X_{2}^{(i)}} \\\\ {\\cdots} \\\\ \n",
    "{\\sum_{i=1}^{m}\\left(\\hat{y}^{(i)}-y^{(i)}\\right) \\cdot X_{n}^{(i)}}\\end{array} \\right)$$"
   ]
  },
  {
   "cell_type": "markdown",
   "metadata": {},
   "source": [
    "回忆在线性回归中："
   ]
  },
  {
   "cell_type": "markdown",
   "metadata": {},
   "source": [
    "$$\\nabla J(\\theta) = \\frac{2}{m} \\cdot \\left(\\begin{array}{c}{\\sum_{i=1}^{m}\\left(X_{b}^{(i)} \\theta-y^{(i)}\\right)} \\\\ {\\sum_{i=1}^{m}\\left(X_{b}^{(i)} \\theta-y^{(i)}\\right) \\cdot X_{1}^{(i)}} \\\\ {\\sum_{i=1}^{m}\\left(X_{b}^{(i)} \\theta-y^{(i)}\\right) \\cdot X_{2}^{(i)}} \\\\ {\\cdots} \\\\ {\\sum_{i=1}^{m}\\left(X_{b}^{(i)} \\theta-y^{(i)}\\right) \\cdot X_{n}^{(i)}}\\end{array} \\right) = \\frac2m \\cdot X_b^T \\cdot (X_b\\theta - y)$$"
   ]
  },
  {
   "cell_type": "markdown",
   "metadata": {},
   "source": [
    "对于逻辑回归来说："
   ]
  },
  {
   "cell_type": "markdown",
   "metadata": {},
   "source": [
    "$$\\nabla J(\\theta) =  \\frac{1}{m} \\cdot \\left(\\begin{array}{c}{\\sum_{i=1}^{m}\\left(\\hat{y}^{(i)}-y^{(i)}\\right)} \\\\ {\\sum_{i=1}^{m}\\left(\\hat{y}^{(i)}-y^{(i)}\\right) \\cdot X_{1}^{(i)}} \\\\ {\\sum_{i=1}^{m}\\left(\\hat{y}^{(i)}-y^{(i)}\\right) \\cdot X_{2}^{(i)}} \\\\ {\\cdots} \\\\ \n",
    "{\\sum_{i=1}^{m}\\left(\\hat{y}^{(i)}-y^{(i)}\\right) \\cdot X_{n}^{(i)}}\\end{array} \\right) = \\frac1m \\cdot X_b^T \\cdot (\\sigma(X_b\\theta) - y)$$"
   ]
  },
  {
   "cell_type": "markdown",
   "metadata": {},
   "source": [
    "### 实现逻辑回归"
   ]
  },
  {
   "cell_type": "code",
   "execution_count": 4,
   "metadata": {},
   "outputs": [],
   "source": [
    "import numpy as np\n",
    "import matplotlib.pyplot as plt\n",
    "from sklearn import datasets\n",
    "\n",
    "iris = datasets.load_iris()"
   ]
  },
  {
   "cell_type": "code",
   "execution_count": 5,
   "metadata": {},
   "outputs": [],
   "source": [
    "X = iris.data\n",
    "y = iris.target"
   ]
  },
  {
   "cell_type": "code",
   "execution_count": 6,
   "metadata": {},
   "outputs": [
    {
     "data": {
      "image/png": "[encoded data removed]",
      "text/plain": [
       "<matplotlib.figure.Figure at 0x24d60681048>"
      ]
     },
     "metadata": {
      "needs_background": "light"
     },
     "output_type": "display_data"
    }
   ],
   "source": [
    "plt.scatter(X[y == 0,0],X[y == 0,1],color=\"red\")\n",
    "plt.scatter(X[y == 1,0],X[y == 1,1],color=\"blue\")\n",
    "plt.scatter(X[y == 2,0],X[y == 2,1],color=\"green\")\n",
    "plt.show()"
   ]
  },
  {
   "cell_type": "code",
   "execution_count": 7,
   "metadata": {},
   "outputs": [],
   "source": [
    "# 剔除掉第三类数据\n",
    "X = X[y < 2,:2]\n",
    "y = y [y < 2]"
   ]
  },
  {
   "cell_type": "code",
   "execution_count": 8,
   "metadata": {
    "scrolled": true
   },
   "outputs": [
    {
     "data": {
      "text/plain": [
       "(100, 2)"
      ]
     },
     "execution_count": 8,
     "metadata": {},
     "output_type": "execute_result"
    }
   ],
   "source": [
    "X.shape"
   ]
  },
  {
   "cell_type": "code",
   "execution_count": 9,
   "metadata": {},
   "outputs": [
    {
     "data": {
      "text/plain": [
       "(100,)"
      ]
     },
     "execution_count": 9,
     "metadata": {},
     "output_type": "execute_result"
    }
   ],
   "source": [
    "y.shape"
   ]
  },
  {
   "cell_type": "code",
   "execution_count": 10,
   "metadata": {},
   "outputs": [
    {
     "data": {
      "image/png": "[encoded data removed]",
      "text/plain": [
       "<matplotlib.figure.Figure at 0x24d60675f98>"
      ]
     },
     "metadata": {
      "needs_background": "light"
     },
     "output_type": "display_data"
    }
   ],
   "source": [
    "plt.scatter(X[y == 0,0],X[y == 0,1],color=\"red\")\n",
    "plt.scatter(X[y == 1,0],X[y == 1,1],color=\"blue\")\n",
    "plt.show()"
   ]
  },
  {
   "cell_type": "markdown",
   "metadata": {},
   "source": [
    "### 使用逻辑回归"
   ]
  },
  {
   "cell_type": "code",
   "execution_count": 11,
   "metadata": {},
   "outputs": [],
   "source": [
    "from model_selection import train_test_split"
   ]
  },
  {
   "cell_type": "code",
   "execution_count": 12,
   "metadata": {},
   "outputs": [],
   "source": [
    "X_train,y_train,X_test,y_test = train_test_split(X,y,seed=666)"
   ]
  },
  {
   "cell_type": "code",
   "execution_count": 13,
   "metadata": {},
   "outputs": [
    {
     "data": {
      "text/plain": [
       "LogisticRegression()"
      ]
     },
     "execution_count": 13,
     "metadata": {},
     "output_type": "execute_result"
    }
   ],
   "source": [
    "from LogisticRegression import LogisticRegression\n",
    "\n",
    "log_reg = LogisticRegression()\n",
    "log_reg.fit(X_train,y_train)"
   ]
  },
  {
   "cell_type": "code",
   "execution_count": 14,
   "metadata": {},
   "outputs": [
    {
     "data": {
      "text/plain": [
       "1.0"
      ]
     },
     "execution_count": 14,
     "metadata": {},
     "output_type": "execute_result"
    }
   ],
   "source": [
    "log_reg.score(X_test,y_test)"
   ]
  },
  {
   "cell_type": "code",
   "execution_count": 15,
   "metadata": {},
   "outputs": [
    {
     "data": {
      "text/plain": [
       "array([9.60794677e-01, 9.95584980e-01, 1.02652530e-01, 1.29631645e-01,\n",
       "       1.66840904e-02, 7.17920718e-03, 2.40278270e-02, 9.99195183e-01,\n",
       "       9.91807755e-01, 7.92108368e-01, 2.06390445e-02, 7.85243583e-04,\n",
       "       2.19583972e-01, 1.66840904e-02, 8.84430666e-01, 8.52839709e-01,\n",
       "       8.78019588e-01, 2.89906326e-01, 3.29556183e-02, 1.62418014e-01])"
      ]
     },
     "execution_count": 15,
     "metadata": {},
     "output_type": "execute_result"
    }
   ],
   "source": [
    "log_reg.predict_proba(X_test)"
   ]
  },
  {
   "cell_type": "code",
   "execution_count": 16,
   "metadata": {},
   "outputs": [
    {
     "data": {
      "text/plain": [
       "array([1, 1, 0, 0, 0, 0, 0, 1, 1, 1, 0, 0, 0, 0, 1, 1, 1, 0, 0, 0])"
      ]
     },
     "execution_count": 16,
     "metadata": {},
     "output_type": "execute_result"
    }
   ],
   "source": [
    "y_test"
   ]
  },
  {
   "cell_type": "code",
   "execution_count": 17,
   "metadata": {},
   "outputs": [
    {
     "data": {
      "text/plain": [
       "array([ 3.72253385, -6.36127161])"
      ]
     },
     "execution_count": 17,
     "metadata": {},
     "output_type": "execute_result"
    }
   ],
   "source": [
    "log_reg.coef_"
   ]
  },
  {
   "cell_type": "code",
   "execution_count": 18,
   "metadata": {},
   "outputs": [
    {
     "data": {
      "text/plain": [
       "-0.42469344440043505"
      ]
     },
     "execution_count": 18,
     "metadata": {},
     "output_type": "execute_result"
    }
   ],
   "source": [
    "log_reg.interception_"
   ]
  },
  {
   "cell_type": "code",
   "execution_count": 19,
   "metadata": {},
   "outputs": [],
   "source": [
    "def x2(x1):\n",
    "    return (-log_reg.coef_[0] * x1 - log_reg.interception_) / log_reg.coef_[1]"
   ]
  },
  {
   "cell_type": "code",
   "execution_count": 20,
   "metadata": {},
   "outputs": [],
   "source": [
    "x1_plot = np.linspace(4,8,1000)\n",
    "x2_plot = x2(x1_plot)"
   ]
  },
  {
   "cell_type": "code",
   "execution_count": 21,
   "metadata": {
    "scrolled": true
   },
   "outputs": [
    {
     "data": {
      "image/png": "[encoded data removed]",
      "text/plain": [
       "<matplotlib.figure.Figure at 0x24d5fa8eb38>"
      ]
     },
     "metadata": {
      "needs_background": "light"
     },
     "output_type": "display_data"
    }
   ],
   "source": [
    "plt.scatter(X[y == 0,0],X[y == 0,1],color=\"red\")\n",
    "plt.scatter(X[y == 1,0],X[y == 1,1],color=\"blue\")\n",
    "plt.plot(x1_plot,x2_plot)\n",
    "plt.show()"
   ]
  },
  {
   "cell_type": "code",
   "execution_count": 22,
   "metadata": {},
   "outputs": [],
   "source": [
    "def plot_decision_boundary(model, axis):\n",
    "    \n",
    "    x0, x1 = np.meshgrid(\n",
    "        np.linspace(axis[0], axis[1], int((axis[1]-axis[0])*100)).reshape(-1, 1),\n",
    "        np.linspace(axis[2], axis[3], int((axis[3]-axis[2])*100)).reshape(-1, 1),\n",
    "    )\n",
    "    X_new = np.c_[x0.ravel(), x1.ravel()]\n",
    "\n",
    "    y_predict = model.predict(X_new)\n",
    "    zz = y_predict.reshape(x0.shape)\n",
    "\n",
    "    from matplotlib.colors import ListedColormap\n",
    "    custom_cmap = ListedColormap(['#EF9A9A','#FFF59D','#90CAF9'])\n",
    "    \n",
    "    plt.contourf(x0, x1, zz, cmap=custom_cmap)  # 以不同的颜色进行划分"
   ]
  },
  {
   "cell_type": "code",
   "execution_count": 24,
   "metadata": {},
   "outputs": [
    {
     "data": {
      "image/png": "[encoded data removed]",
      "text/plain": [
       "<matplotlib.figure.Figure at 0x24d5b81d748>"
      ]
     },
     "metadata": {
      "needs_background": "light"
     },
     "output_type": "display_data"
    }
   ],
   "source": [
    "plot_decision_boundary(log_reg,axis=[4,7.5,1.5,4.5])\n",
    "plt.scatter(X[y == 0,0],X[y == 0,1],color=\"red\")\n",
    "plt.scatter(X[y == 1,0],X[y == 1,1],color=\"blue\")\n",
    "plt.show()"
   ]
  },
  {
   "cell_type": "markdown",
   "metadata": {},
   "source": [
    "### kNN的决策边界"
   ]
  },
  {
   "cell_type": "code",
   "execution_count": 27,
   "metadata": {},
   "outputs": [
    {
     "data": {
      "text/plain": [
       "KNeighborsClassifier(algorithm='auto', leaf_size=30, metric='minkowski',\n",
       "           metric_params=None, n_jobs=1, n_neighbors=5, p=2,\n",
       "           weights='uniform')"
      ]
     },
     "execution_count": 27,
     "metadata": {},
     "output_type": "execute_result"
    }
   ],
   "source": [
    "from sklearn.neighbors import KNeighborsClassifier\n",
    "\n",
    "knn_clf = KNeighborsClassifier()\n",
    "knn_clf.fit(X_train,y_train)"
   ]
  },
  {
   "cell_type": "code",
   "execution_count": 29,
   "metadata": {},
   "outputs": [
    {
     "data": {
      "text/plain": [
       "1.0"
      ]
     },
     "execution_count": 29,
     "metadata": {},
     "output_type": "execute_result"
    }
   ],
   "source": [
    "knn_clf.score(X_test,y_test)"
   ]
  },
  {
   "cell_type": "code",
   "execution_count": 30,
   "metadata": {},
   "outputs": [
    {
     "data": {
      "image/png": "[encoded data removed]",
      "text/plain": [
       "<matplotlib.figure.Figure at 0x24d61cdb550>"
      ]
     },
     "metadata": {
      "needs_background": "light"
     },
     "output_type": "display_data"
    }
   ],
   "source": [
    "plot_decision_boundary(knn_clf,axis=[4,7.5,1.5,4.5])\n",
    "plt.scatter(X[y == 0,0],X[y == 0,1],color=\"red\")\n",
    "plt.scatter(X[y == 1,0],X[y == 1,1],color=\"blue\")\n",
    "plt.show()"
   ]
  },
  {
   "cell_type": "code",
   "execution_count": 31,
   "metadata": {},
   "outputs": [
    {
     "data": {
      "text/plain": [
       "KNeighborsClassifier(algorithm='auto', leaf_size=30, metric='minkowski',\n",
       "           metric_params=None, n_jobs=1, n_neighbors=5, p=2,\n",
       "           weights='uniform')"
      ]
     },
     "execution_count": 31,
     "metadata": {},
     "output_type": "execute_result"
    }
   ],
   "source": [
    "knn_clf_all = KNeighborsClassifier()\n",
    "knn_clf_all.fit(iris.data[:,:2],iris.target)"
   ]
  },
  {
   "cell_type": "code",
   "execution_count": 35,
   "metadata": {},
   "outputs": [
    {
     "data": {
      "image/png": "[encoded data removed]",
      "text/plain": [
       "<matplotlib.figure.Figure at 0x24d61aa4f98>"
      ]
     },
     "metadata": {
      "needs_background": "light"
     },
     "output_type": "display_data"
    }
   ],
   "source": [
    "plot_decision_boundary(knn_clf_all,axis=[4,8,1.5,4.5])\n",
    "plt.scatter(iris.data[iris.target == 0,0],iris.data[iris.target == 0,1])\n",
    "plt.scatter(iris.data[iris.target == 1,0],iris.data[iris.target == 1,1])\n",
    "plt.scatter(iris.data[iris.target == 2,0],iris.data[iris.target == 2,1])\n",
    "plt.show()"
   ]
  },
  {
   "cell_type": "code",
   "execution_count": 39,
   "metadata": {},
   "outputs": [
    {
     "data": {
      "image/png": "[encoded data removed]",
      "text/plain": [
       "<matplotlib.figure.Figure at 0x24d6251ca58>"
      ]
     },
     "metadata": {
      "needs_background": "light"
     },
     "output_type": "display_data"
    }
   ],
   "source": [
    "knn_clf_all = KNeighborsClassifier(n_neighbors=60)\n",
    "knn_clf_all.fit(iris.data[:,:2],iris.target)\n",
    "plot_decision_boundary(knn_clf_all,axis=[4,8,1.5,4.5])\n",
    "plt.scatter(iris.data[iris.target == 0,0],iris.data[iris.target == 0,1])\n",
    "plt.scatter(iris.data[iris.target == 1,0],iris.data[iris.target == 1,1])\n",
    "plt.scatter(iris.data[iris.target == 2,0],iris.data[iris.target == 2,1])\n",
    "plt.show()"
   ]
  },
  {
   "cell_type": "code",
   "execution_count": null,
   "metadata": {},
   "outputs": [],
   "source": []
  }
 ],
 "metadata": {
  "kernelspec": {
   "display_name": "Python 3",
   "language": "python",
   "name": "python3"
  },
  "language_info": {
   "codemirror_mode": {
    "name": "ipython",
    "version": 3
   },
   "file_extension": ".py",
   "mimetype": "text/x-python",
   "name": "python",
   "nbconvert_exporter": "python",
   "pygments_lexer": "ipython3",
   "version": "3.6.4"
  }
 },
 "nbformat": 4,
 "nbformat_minor": 2
}
