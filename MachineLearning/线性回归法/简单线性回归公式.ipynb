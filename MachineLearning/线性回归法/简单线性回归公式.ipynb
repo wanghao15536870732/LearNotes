{
 "cells": [
  {
   "cell_type": "markdown",
   "metadata": {},
   "source": [
    "## 简单线性回归"
   ]
  },
  {
   "cell_type": "markdown",
   "metadata": {},
   "source": [
    "目标：使\n",
    "### $$\\sum_{i=1}^{m}{(y_i - \\hat{y_i} )^2 }$$\n",
    "尽可能小，而$\\hat{y_i} = ax_i + b$\n",
    "目标变为：找到a和b,使得\n",
    "\n",
    "### $$\\sum_{i=1}^{m}{(y_i - ax_i - b)^2 }$$\n",
    "\n",
    "尽可能小"
   ]
  },
  {
   "cell_type": "markdown",
   "metadata": {},
   "source": [
    "最小二乘法 即求 \n",
    "### $$J(a,b) = \\sum_{i=1}^{m}{(y_i - ax_i - b)^2 }$$\n",
    "的最大值，即当a,b,方向的偏导数\n",
    "### $$ \\frac{\\partial J(a,b)}{\\partial a} = \\frac{\\partial J(a,b)}{\\partial b} = 0$$"
   ]
  },
  {
   "cell_type": "markdown",
   "metadata": {},
   "source": [
    "而对b求的偏导为\n",
    "### $$\\frac{\\partial J(a,b)}{\\partial b} = \\sum_{i=1}^{m}{2 (y_i - ax_i - b)(-1) } = 0$$ "
   ]
  },
  {
   "cell_type": "markdown",
   "metadata": {},
   "source": [
    "再化简可得：\n",
    "### $$\\sum_{i=1}^{m}{(y_i - ax_i - b)} = 0$$"
   ]
  },
  {
   "cell_type": "markdown",
   "metadata": {},
   "source": [
    "再次分到每个因子上得：\n",
    "### $$\\sum_{i=1}^{m}{y_i} - \\sum_{i=1}^{m}{ax_i} -  \\sum_{i=1}^{b} = \\sum_{i=1}^{m}{y_i} - \\sum_{i=1}^{m}{ax_i} - mb = 0$$"
   ]
  },
  {
   "cell_type": "markdown",
   "metadata": {},
   "source": [
    "移项可得：\n",
    "### $$mb = \\sum_{i=1}^{m}{y_i} - a\\sum_{i=1}^{m}{x_i}$$"
   ]
  },
  {
   "cell_type": "markdown",
   "metadata": {},
   "source": [
    "最终化简为：\n",
    "### $$b = \\bar{y} - a\\bar{x}$$"
   ]
  },
  {
   "cell_type": "markdown",
   "metadata": {},
   "source": [
    "再对a求偏导得：\n",
    "### $$\\frac{\\partial J(a,b)}{\\partial a} = \\sum_{i=1}^{m}{2 (y_i - ax_i - b)(-x_i) } = 0$$\n",
    "化简可得：\n",
    "### $$\\sum_{i=1}^{m}{(y_i - ax_i - b)x_i} = 0$$\n",
    "将$b = \\bar{y} - a\\bar{x}$带入可得：\n",
    "### $$\\sum_{i=1}^{m}{(y_i - ax_i - \\bar{y} + a\\bar{x})x_i} = 0$$"
   ]
  },
  {
   "cell_type": "markdown",
   "metadata": {},
   "source": [
    "开始化简：\n",
    "### $$\\sum_{i=1}^{m}{(y_i - ax_i - \\bar{y} + a\\bar{x})x_i}$$  \n",
    "### $$\\sum_{i=1}^{m}{(y_ix_i - a(x_i)^2 - x_i\\bar{y} + a\\bar{x}x_i)}$$  \n",
    "### $$\\sum_{i=1}^{m}{(y_ix_i - x_i\\bar{y} - a(x_i)^2 + a\\bar{x}x_i)}$$"
   ]
  },
  {
   "cell_type": "markdown",
   "metadata": {},
   "source": [
    "### $$\\sum_{i=1}^{m}{(x_iy_i - x_i\\bar{y})} - a\\sum_{i=1}^{m}{((x_i)^2 - \\bar{x}x_i)} = 0$$"
   ]
  },
  {
   "cell_type": "markdown",
   "metadata": {},
   "source": [
    "### $$a = \\frac{\\sum_{i=1}^{m}{(x_iy_i - x_i\\bar{y})}}{\\sum_{i=1}^{m}{((x_i)^2 - \\bar{x}x_i)}}$$"
   ]
  },
  {
   "cell_type": "markdown",
   "metadata": {},
   "source": [
    "而\n",
    "### $$\\sum_{i=1}^{m}{(x_iy_i - x_i\\bar{y})}$$\n",
    "其中的$\\sum_{i=1}^{m}{x_i\\bar{y}}$化简为：\n",
    "### $$\\sum_{i=1}^{m}{x_i\\bar{y}} = \\bar{y}\\sum_{i=1}^{m}{x_i} = m\\bar{y}\\bar{x} = \\bar{x}\\sum_{i=1}^{m}{y_i} = \\sum_{i=1}^{m}{\\bar{x}y_i}$$"
   ]
  },
  {
   "cell_type": "markdown",
   "metadata": {},
   "source": [
    "最终可得：$\\bar{x}y_i = \\bar{x}\\bar{y}$ ,将分子中改为$\\sum_{i=1}^{m}{(x_iy_i - x_i\\bar{y} - \\bar{x}y_i + \\bar{x}\\bar{y})}$ ,即同时减去$\\bar{x}y_i$并添加$\\bar{x}\\bar{y}$，得：\n",
    "### $$a = \\frac{\\sum_{i=1}^{m}{(x_iy_i - x_i\\bar{y} - \\bar{x}y_i + \\bar{x}\\bar{y})}}{\\sum_{i=1}^{m}{((x_i)^2 - \\bar{x}x_i)}}$$\n",
    "同理可得：$\\bar{x}x_i = \\bar{x}^2$,分母可化简为：$\\sum_{i=1}^{m}{((x_i)^2 - \\bar{x}x_i - \\bar{x}x_i + \\bar{x}^2)}$"
   ]
  },
  {
   "cell_type": "markdown",
   "metadata": {},
   "source": [
    "#### 再化简可得\n",
    "### $$a = \\frac{\\sum_{i=1}^{m}{(x_iy_i - x_i\\bar{y} - \\bar{x}y_i + \\bar{x}\\bar{y})}}{\\sum_{i=1}^{m}{((x_i)^2 - \\bar{x}x_i - \\bar{x}x_i + \\bar{x}^2)}} = \\frac{\\sum_{i=1}^{m}{(x_i - \\bar{x})(y_i - \\bar{y})}}{\\sum_{i=1}^{m}{(x_i - \\bar{x})^2}}$$"
   ]
  },
  {
   "cell_type": "markdown",
   "metadata": {},
   "source": [
    "最终可得：\n",
    "### $$a = \\frac{\\sum_{i=1}^{m}{(x_i - \\bar{x})(y_i - \\bar{y})}}{\\sum_{i=1}^{m}{(x_i - \\bar{x})^2}},b = \\bar{y} - a\\bar{x}$$"
   ]
  }
 ],
 "metadata": {
  "kernelspec": {
   "display_name": "Python 3",
   "language": "python",
   "name": "python3"
  },
  "language_info": {
   "codemirror_mode": {
    "name": "ipython",
    "version": 3
   },
   "file_extension": ".py",
   "mimetype": "text/x-python",
   "name": "python",
   "nbconvert_exporter": "python",
   "pygments_lexer": "ipython3",
   "version": "3.6.4"
  }
 },
 "nbformat": 4,
 "nbformat_minor": 2
}
