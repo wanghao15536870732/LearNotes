{
 "cells": [
  {
   "cell_type": "markdown",
   "metadata": {},
   "source": [
    "## 如何调试梯度"
   ]
  },
  {
   "cell_type": "markdown",
   "metadata": {},
   "source": [
    "![梯度调试](https://upload-images.jianshu.io/upload_images/9140378-172f399bf0f7d540.png?imageMogr2/auto-orient/strip%7CimageView2/2/w/440)"
   ]
  },
  {
   "cell_type": "markdown",
   "metadata": {},
   "source": [
    "## $\\frac{dJ}{d\\theta} = \\frac{J(\\theta + \\epsilon) - J(\\theta - \\epsilon)}{2\\epsilon}$"
   ]
  },
  {
   "cell_type": "markdown",
   "metadata": {},
   "source": [
    "### 若是多维的向量 $\\theta = (\\theta_0,\\theta_1,\\theta_2,...,\\theta_n)$，则梯度变为$\\frac{\\partial J}{\\partial \\theta} = (\\frac{\\partial J}{\\partial \\theta_0},\\frac{\\partial J}{\\partial \\theta_1},\\frac{\\partial J}{\\partial \\theta_2},...,\\frac{\\partial J}{\\partial \\theta_n})$"
   ]
  },
  {
   "cell_type": "markdown",
   "metadata": {},
   "source": [
    "### 可以近似的运用一维向量的做法"
   ]
  },
  {
   "cell_type": "markdown",
   "metadata": {},
   "source": [
    "$\\frac{\\partial J}{\\partial \\theta_0} = \\frac{J(\\theta_0^{+}) - J(\\theta_0^{-})}{2\\epsilon} , \\theta_0^{+} = (\\theta_0 + \\epsilon,\\theta_1,\\theta_2,...,\\theta_n) , \\theta_0^{-} = (\\theta_0 - \\epsilon,\\theta_1,\\theta_2,...,\\theta_n)$"
   ]
  },
  {
   "cell_type": "markdown",
   "metadata": {},
   "source": [
    "$\\frac{\\partial J}{\\partial \\theta_1} = \\frac{J(\\theta_1^{+}) - J(\\theta_1^{-})}{2\\epsilon} , \\theta_1^{+} = (\\theta_0 ,\\theta_1 + \\epsilon,\\theta_2,...,\\theta_n) , \\theta_1^{-} = (\\theta_0,\\theta_1 - \\epsilon,\\theta_2,...,\\theta_n)$"
   ]
  },
  {
   "cell_type": "markdown",
   "metadata": {},
   "source": [
    "$\\frac{\\partial J}{\\partial \\theta_2} = \\frac{J(\\theta_2^{+}) - J(\\theta_2^{-})}{2\\epsilon} , \\theta_2^{+} = (\\theta_0 ,\\theta_1,\\theta_2 + \\epsilon,...,\\theta_n) , \\theta_1^{-} = (\\theta_0,\\theta_1,\\theta_2 - \\epsilon,...,\\theta_n)$"
   ]
  },
  {
   "cell_type": "markdown",
   "metadata": {},
   "source": [
    "$......,......,......$"
   ]
  },
  {
   "cell_type": "markdown",
   "metadata": {},
   "source": [
    "$\\frac{\\partial J}{\\partial \\theta_n} = \\frac{J(\\theta_n^{+}) - J(\\theta_n^{-})}{2\\epsilon} , \\theta_n^{+} = (\\theta_0 ,\\theta_1,\\theta_2,...,\\theta_n + \\epsilon) , \\theta_n^{-} = (\\theta_0,\\theta_1,\\theta_2,...,\\theta_n - \\epsilon)$"
   ]
  },
  {
   "cell_type": "code",
   "execution_count": 1,
   "metadata": {},
   "outputs": [],
   "source": [
    "import numpy as np\n",
    "import matplotlib.pyplot as plt"
   ]
  },
  {
   "cell_type": "code",
   "execution_count": 2,
   "metadata": {},
   "outputs": [],
   "source": [
    "np.random.seed(666)\n",
    "X = np.random.random(size=(1000,10))"
   ]
  },
  {
   "cell_type": "code",
   "execution_count": 3,
   "metadata": {},
   "outputs": [],
   "source": [
    "true_theta = np.arange(1,12,dtype=float)"
   ]
  },
  {
   "cell_type": "code",
   "execution_count": 4,
   "metadata": {},
   "outputs": [
    {
     "data": {
      "text/plain": [
       "array([ 1.,  2.,  3.,  4.,  5.,  6.,  7.,  8.,  9., 10., 11.])"
      ]
     },
     "execution_count": 4,
     "metadata": {},
     "output_type": "execute_result"
    }
   ],
   "source": [
    "true_theta"
   ]
  },
  {
   "cell_type": "code",
   "execution_count": 5,
   "metadata": {},
   "outputs": [
    {
     "data": {
      "text/plain": [
       "(1000, 10)"
      ]
     },
     "execution_count": 5,
     "metadata": {},
     "output_type": "execute_result"
    }
   ],
   "source": [
    "X.shape"
   ]
  },
  {
   "cell_type": "code",
   "execution_count": 6,
   "metadata": {},
   "outputs": [
    {
     "data": {
      "text/plain": [
       "array([[1.        , 0.70043712, 0.84418664, ..., 0.04881279, 0.09992856,\n",
       "        0.50806631],\n",
       "       [1.        , 0.20024754, 0.74415417, ..., 0.11285765, 0.11095367,\n",
       "        0.24766823],\n",
       "       [1.        , 0.0232363 , 0.72732115, ..., 0.25913185, 0.58381262,\n",
       "        0.32569065],\n",
       "       ...,\n",
       "       [1.        , 0.88593917, 0.49480495, ..., 0.50598273, 0.86447115,\n",
       "        0.31128276],\n",
       "       [1.        , 0.81051618, 0.87890841, ..., 0.37299025, 0.81523744,\n",
       "        0.31074351],\n",
       "       [1.        , 0.75052272, 0.98612317, ..., 0.26679141, 0.34224855,\n",
       "        0.02366081]])"
      ]
     },
     "execution_count": 6,
     "metadata": {},
     "output_type": "execute_result"
    }
   ],
   "source": [
    "X_b = np.hstack([np.ones((len(X),1)),X]) # 加上一维的one数据层\n",
    "X_b"
   ]
  },
  {
   "cell_type": "code",
   "execution_count": 7,
   "metadata": {},
   "outputs": [
    {
     "data": {
      "text/plain": [
       "(1000, 11)"
      ]
     },
     "execution_count": 7,
     "metadata": {},
     "output_type": "execute_result"
    }
   ],
   "source": [
    "X_b.shape"
   ]
  },
  {
   "cell_type": "code",
   "execution_count": 8,
   "metadata": {},
   "outputs": [],
   "source": [
    "y = X_b.dot(true_theta) + np.random.normal(size=1000) # 正态分布噪音"
   ]
  },
  {
   "cell_type": "code",
   "execution_count": 9,
   "metadata": {},
   "outputs": [
    {
     "data": {
      "text/plain": [
       "(1000,)"
      ]
     },
     "execution_count": 9,
     "metadata": {},
     "output_type": "execute_result"
    }
   ],
   "source": [
    "y.shape"
   ]
  },
  {
   "cell_type": "code",
   "execution_count": 10,
   "metadata": {},
   "outputs": [
    {
     "data": {
      "text/plain": [
       "(1000, 10)"
      ]
     },
     "execution_count": 10,
     "metadata": {},
     "output_type": "execute_result"
    }
   ],
   "source": [
    "X.shape"
   ]
  },
  {
   "cell_type": "code",
   "execution_count": 11,
   "metadata": {},
   "outputs": [],
   "source": [
    "def J(theta,X_b,y): # 损失函数\n",
    "    try:\n",
    "        return np.sum((y - X_b.dot(theta)) ** 2) / len(y)\n",
    "    except:\n",
    "        return float('inf')"
   ]
  },
  {
   "cell_type": "code",
   "execution_count": 12,
   "metadata": {},
   "outputs": [],
   "source": [
    "def dJ_math(theta,X_b,y): # 在theta处的梯度\n",
    "    return X_b.T.dot(X_b.dot(theta) - y) * 2. / len(y)"
   ]
  },
  {
   "cell_type": "markdown",
   "metadata": {},
   "source": [
    "res[i]的具体应用公式：$\\frac{dJ}{d\\theta} = \\frac{J(\\theta + \\epsilon) - J(\\theta - \\epsilon)}{2\\epsilon}$"
   ]
  },
  {
   "cell_type": "code",
   "execution_count": 13,
   "metadata": {},
   "outputs": [],
   "source": [
    "def dJ_debug(theta,X_b,y,epsilon=0.01): \n",
    "    res = np.empty(len(theta)) # 创建theta长度的向量res\n",
    "    for i in range(len(theta)):\n",
    "        theta_1 = theta.copy()\n",
    "        theta_1[i] += epsilon # 第i个维度的值加上epsilon\n",
    "        theta_2 = theta.copy()\n",
    "        theta_2[i] -= epsilon # 第i个维度的值减去epsilon\n",
    "        res[i] = (J(theta_1,X_b,y) - J(theta_2,X_b,y)) / (2 * epsilon)\n",
    "    return res;"
   ]
  },
  {
   "cell_type": "code",
   "execution_count": 14,
   "metadata": {},
   "outputs": [],
   "source": [
    "def gradient_descent(dJ,X_b,y,initial_theta,eta,n_iters=1e4,epsilon=0.01): \n",
    "    theta = initial_theta\n",
    "    cur_iter = 0 # 从0开始遍历\n",
    "    \n",
    "    while cur_iter < n_iters: \n",
    "        gradient = dJ(theta,X_b,y)  # 计算梯度\n",
    "        last_theta = theta\n",
    "        theta = theta - eta * gradient\n",
    "        if(abs(J(theta,X_b,y) - J(last_theta,X_b,y)) < epsilon):  # 相差距离小于某个度值\n",
    "            break;\n",
    "        cur_iter += 1\n",
    "    return theta"
   ]
  },
  {
   "cell_type": "code",
   "execution_count": 15,
   "metadata": {},
   "outputs": [
    {
     "name": "stdout",
     "output_type": "stream",
     "text": [
      "Wall time: 168 ms\n"
     ]
    },
    {
     "data": {
      "text/plain": [
       "array([8.26200061, 3.41547499, 3.50931419, 3.8359876 , 4.53870159,\n",
       "       4.88207109, 5.10522801, 5.7360655 , 6.11828751, 6.60422379,\n",
       "       7.06073814])"
      ]
     },
     "execution_count": 15,
     "metadata": {},
     "output_type": "execute_result"
    }
   ],
   "source": [
    "X_b = np.hstack([np.ones((len(X),1)),X])\n",
    "initial_theta = np.zeros(X_b.shape[1])\n",
    "eta = 0.01\n",
    "\n",
    "%time theta = gradient_descent(dJ_debug,X_b,y,initial_theta,eta)\n",
    "theta"
   ]
  },
  {
   "cell_type": "code",
   "execution_count": 17,
   "metadata": {},
   "outputs": [
    {
     "name": "stdout",
     "output_type": "stream",
     "text": [
      "Wall time: 34.9 ms\n"
     ]
    },
    {
     "data": {
      "text/plain": [
       "array([8.26200061, 3.41547499, 3.50931419, 3.8359876 , 4.53870159,\n",
       "       4.88207109, 5.10522801, 5.7360655 , 6.11828751, 6.60422379,\n",
       "       7.06073814])"
      ]
     },
     "execution_count": 17,
     "metadata": {},
     "output_type": "execute_result"
    }
   ],
   "source": [
    "%time theta = gradient_descent(dJ_math,X_b,y,initial_theta,eta)\n",
    "theta"
   ]
  }
 ],
 "metadata": {
  "kernelspec": {
   "display_name": "Python 3",
   "language": "python",
   "name": "python3"
  },
  "language_info": {
   "codemirror_mode": {
    "name": "ipython",
    "version": 3
   },
   "file_extension": ".py",
   "mimetype": "text/x-python",
   "name": "python",
   "nbconvert_exporter": "python",
   "pygments_lexer": "ipython3",
   "version": "3.6.4"
  }
 },
 "nbformat": 4,
 "nbformat_minor": 2
}
